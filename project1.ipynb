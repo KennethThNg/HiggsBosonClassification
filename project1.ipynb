{
 "cells": [
  {
   "cell_type": "code",
   "execution_count": 1,
   "metadata": {},
   "outputs": [],
   "source": [
    "# Useful starting lines\n",
    "%matplotlib inline\n",
    "import numpy as np\n",
    "import matplotlib.pyplot as plt\n",
    "%load_ext autoreload\n",
    "%autoreload 2"
   ]
  },
  {
   "cell_type": "code",
   "execution_count": 2,
   "metadata": {},
   "outputs": [],
   "source": [
    "# import libraries\n",
    "from implementation import *\n",
    "from helpers import *\n",
    "from cross_validation import *\n",
    "from proj_helpers import *"
   ]
  },
  {
   "cell_type": "code",
   "execution_count": 3,
   "metadata": {},
   "outputs": [],
   "source": [
    "# set random seed\n",
    "np.random.seed(10)"
   ]
  },
  {
   "cell_type": "code",
   "execution_count": 4,
   "metadata": {},
   "outputs": [],
   "source": [
    "# Load training data\n",
    "DATA_TRAIN_PATH = 'data/train.csv'\n",
    "y_data, tX_data, ids = load_csv_data(DATA_TRAIN_PATH)\n"
   ]
  },
  {
   "cell_type": "code",
   "execution_count": 12,
   "metadata": {},
   "outputs": [],
   "source": [
    "# define models\n",
    "models = ['gd',\n",
    "          'sgd',\n",
    "          'least squares',\n",
    "          'ridge regression',\n",
    "          'logistic regression',\n",
    "          'regularized logistic regression']\n",
    "\n",
    "# select model\n",
    "selected_model = 'ridge regression'\n",
    "\n",
    "#define parameters\n",
    "poly_degrees_dict = {0 : [14], 1 : [18], 2 : [7], 3 : [14]} # fixed degrees for each mask\n",
    "inv_log_degrees_dict = {0 : [12], 1 : [18], 2 : [14], 3 : [7]} # # fixed degrees for each mask\n",
    "\n",
    "#poly_degrees = np.linspace(7, 20, 14, dtype='int')\n",
    "#inv_log_degrees = np.linspace(7, 20, 14, dtype='int')\n",
    "\n",
    "gammas = [1] #np.logspace(-10, -1, 10)\n",
    "lambdas = [1e-13] #np.logspace(-15, 0, 30)\n",
    "max_iters = [10] #list(range(10,100,10))"
   ]
  },
  {
   "cell_type": "code",
   "execution_count": 14,
   "metadata": {},
   "outputs": [
    {
     "name": "stdout",
     "output_type": "stream",
     "text": [
      "Training with ridge regression\n",
      "Preprocessing mask 0\n",
      "Best parameters for mask 0:\n",
      "{'poly_degree': 13, 'log_degree': 7, 'max_iteration': 10, 'gamma': 1, 'lambda': 1e-13, 'acc_mean': 0.7657422186751796, 'acc_std': 0.004880484706782157}\n"
     ]
    },
    {
     "data": {
      "image/png": "[encoded data removed]",
      "text/plain": [
       "<Figure size 432x288 with 2 Axes>"
      ]
     },
     "metadata": {
      "needs_background": "light"
     },
     "output_type": "display_data"
    },
    {
     "name": "stdout",
     "output_type": "stream",
     "text": [
      "---------------------------------------------------------------------------------\n",
      "Preprocessing mask 1\n",
      "Fold number: 2  78%   \r"
     ]
    },
    {
     "ename": "KeyboardInterrupt",
     "evalue": "",
     "output_type": "error",
     "traceback": [
      "\u001b[1;31m---------------------------------------------------------------------------\u001b[0m",
      "\u001b[1;31mKeyboardInterrupt\u001b[0m                         Traceback (most recent call last)",
      "\u001b[1;32m<ipython-input-14-e95493997ce9>\u001b[0m in \u001b[0;36m<module>\u001b[1;34m\u001b[0m\n\u001b[0;32m     25\u001b[0m     \u001b[1;31m#inv_log_degrees = inv_log_degrees_dict[idx]\u001b[0m\u001b[1;33m\u001b[0m\u001b[1;33m\u001b[0m\u001b[1;33m\u001b[0m\u001b[0m\n\u001b[0;32m     26\u001b[0m \u001b[1;33m\u001b[0m\u001b[0m\n\u001b[1;32m---> 27\u001b[1;33m     \u001b[0mgrid_results\u001b[0m \u001b[1;33m=\u001b[0m \u001b[0mcross_validation_demo\u001b[0m\u001b[1;33m(\u001b[0m\u001b[0mytrain\u001b[0m\u001b[1;33m,\u001b[0m \u001b[0mxtrain\u001b[0m\u001b[1;33m,\u001b[0m \u001b[0mselected_model\u001b[0m\u001b[1;33m,\u001b[0m \u001b[0mpoly_degrees\u001b[0m\u001b[1;33m,\u001b[0m \u001b[0minv_log_degrees\u001b[0m\u001b[1;33m,\u001b[0m \u001b[0mmax_iters\u001b[0m\u001b[1;33m,\u001b[0m \u001b[0mgammas\u001b[0m\u001b[1;33m,\u001b[0m \u001b[0mlambdas\u001b[0m\u001b[1;33m,\u001b[0m \u001b[0mk_fold\u001b[0m\u001b[1;33m)\u001b[0m\u001b[1;33m\u001b[0m\u001b[1;33m\u001b[0m\u001b[0m\n\u001b[0m\u001b[0;32m     28\u001b[0m     \u001b[0mprint\u001b[0m\u001b[1;33m(\u001b[0m\u001b[1;34mf'Best parameters for mask {idx}:'\u001b[0m\u001b[1;33m)\u001b[0m\u001b[1;33m\u001b[0m\u001b[1;33m\u001b[0m\u001b[0m\n\u001b[0;32m     29\u001b[0m     \u001b[0mprint\u001b[0m\u001b[1;33m(\u001b[0m\u001b[0mgrid_results\u001b[0m\u001b[1;33m[\u001b[0m\u001b[0mfind_best_parameters\u001b[0m\u001b[1;33m(\u001b[0m\u001b[0mgrid_results\u001b[0m\u001b[1;33m,\u001b[0m \u001b[0mmin_\u001b[0m\u001b[1;33m=\u001b[0m\u001b[1;32mFalse\u001b[0m\u001b[1;33m)\u001b[0m\u001b[1;33m[\u001b[0m\u001b[1;36m1\u001b[0m\u001b[1;33m]\u001b[0m\u001b[1;33m]\u001b[0m\u001b[1;33m,\u001b[0m \u001b[0msep\u001b[0m\u001b[1;33m=\u001b[0m\u001b[1;34m'\\n'\u001b[0m\u001b[1;33m)\u001b[0m\u001b[1;33m\u001b[0m\u001b[1;33m\u001b[0m\u001b[0m\n",
      "\u001b[1;32m~\\Google Drive\\Machine Learning\\ML2019Project1\\cross_validation.py\u001b[0m in \u001b[0;36mcross_validation_demo\u001b[1;34m(y, tx, model, poly_degrees, inv_log_degrees, max_iters, gammas, lambdas, k_fold)\u001b[0m\n\u001b[0;32m     80\u001b[0m                 \u001b[0minv_log_stand_test\u001b[0m \u001b[1;33m=\u001b[0m \u001b[0mfit_standardize\u001b[0m\u001b[1;33m(\u001b[0m\u001b[0mxtest_inv_log\u001b[0m\u001b[1;33m[\u001b[0m\u001b[1;33m:\u001b[0m\u001b[1;33m,\u001b[0m\u001b[1;36m1\u001b[0m\u001b[1;33m:\u001b[0m\u001b[1;33m]\u001b[0m\u001b[1;33m,\u001b[0m \u001b[0mlog_mean\u001b[0m\u001b[1;33m,\u001b[0m \u001b[0mlog_std\u001b[0m\u001b[1;33m)\u001b[0m\u001b[1;33m\u001b[0m\u001b[1;33m\u001b[0m\u001b[0m\n\u001b[0;32m     81\u001b[0m \u001b[1;33m\u001b[0m\u001b[0m\n\u001b[1;32m---> 82\u001b[1;33m                 \u001b[0mxtrain_process\u001b[0m \u001b[1;33m=\u001b[0m \u001b[0mnp\u001b[0m\u001b[1;33m.\u001b[0m\u001b[0mcolumn_stack\u001b[0m\u001b[1;33m(\u001b[0m\u001b[1;33m(\u001b[0m\u001b[0mxtrain_stand\u001b[0m\u001b[1;33m,\u001b[0m \u001b[0minv_log_stand\u001b[0m\u001b[1;33m)\u001b[0m\u001b[1;33m)\u001b[0m\u001b[1;33m\u001b[0m\u001b[1;33m\u001b[0m\u001b[0m\n\u001b[0m\u001b[0;32m     83\u001b[0m                 \u001b[0mxtest_process\u001b[0m \u001b[1;33m=\u001b[0m \u001b[0mnp\u001b[0m\u001b[1;33m.\u001b[0m\u001b[0mcolumn_stack\u001b[0m\u001b[1;33m(\u001b[0m\u001b[1;33m(\u001b[0m\u001b[0mxtest_stand\u001b[0m\u001b[1;33m,\u001b[0m \u001b[0minv_log_stand_test\u001b[0m\u001b[1;33m)\u001b[0m\u001b[1;33m)\u001b[0m\u001b[1;33m\u001b[0m\u001b[1;33m\u001b[0m\u001b[0m\n\u001b[0;32m     84\u001b[0m \u001b[1;33m\u001b[0m\u001b[0m\n",
      "\u001b[1;32m~\\Anaconda3\\lib\\site-packages\\numpy\\lib\\shape_base.py\u001b[0m in \u001b[0;36mcolumn_stack\u001b[1;34m(tup)\u001b[0m\n\u001b[0;32m    638\u001b[0m             \u001b[0marr\u001b[0m \u001b[1;33m=\u001b[0m \u001b[0marray\u001b[0m\u001b[1;33m(\u001b[0m\u001b[0marr\u001b[0m\u001b[1;33m,\u001b[0m \u001b[0mcopy\u001b[0m\u001b[1;33m=\u001b[0m\u001b[1;32mFalse\u001b[0m\u001b[1;33m,\u001b[0m \u001b[0msubok\u001b[0m\u001b[1;33m=\u001b[0m\u001b[1;32mTrue\u001b[0m\u001b[1;33m,\u001b[0m \u001b[0mndmin\u001b[0m\u001b[1;33m=\u001b[0m\u001b[1;36m2\u001b[0m\u001b[1;33m)\u001b[0m\u001b[1;33m.\u001b[0m\u001b[0mT\u001b[0m\u001b[1;33m\u001b[0m\u001b[1;33m\u001b[0m\u001b[0m\n\u001b[0;32m    639\u001b[0m         \u001b[0marrays\u001b[0m\u001b[1;33m.\u001b[0m\u001b[0mappend\u001b[0m\u001b[1;33m(\u001b[0m\u001b[0marr\u001b[0m\u001b[1;33m)\u001b[0m\u001b[1;33m\u001b[0m\u001b[1;33m\u001b[0m\u001b[0m\n\u001b[1;32m--> 640\u001b[1;33m     \u001b[1;32mreturn\u001b[0m \u001b[0m_nx\u001b[0m\u001b[1;33m.\u001b[0m\u001b[0mconcatenate\u001b[0m\u001b[1;33m(\u001b[0m\u001b[0marrays\u001b[0m\u001b[1;33m,\u001b[0m \u001b[1;36m1\u001b[0m\u001b[1;33m)\u001b[0m\u001b[1;33m\u001b[0m\u001b[1;33m\u001b[0m\u001b[0m\n\u001b[0m\u001b[0;32m    641\u001b[0m \u001b[1;33m\u001b[0m\u001b[0m\n\u001b[0;32m    642\u001b[0m \u001b[1;33m\u001b[0m\u001b[0m\n",
      "\u001b[1;31mKeyboardInterrupt\u001b[0m: "
     ]
    }
   ],
   "source": [
    "# define cross validation parameters\n",
    "ratio = 0.5 # ratio of complete data to use (for testing purpose - much faster)\n",
    "k_fold = 5 # number of folds to use for the cross validation\n",
    "# -------------------------------------\n",
    "\n",
    "# shuffle dataset\n",
    "shuffle_indices = np.random.permutation(np.arange(len(y_data)))\n",
    "shuffled_y = y_data[shuffle_indices]\n",
    "shuffled_tx = tX_data[shuffle_indices]\n",
    "\n",
    "tX = shuffled_tx[:int(ratio * tX_data.shape[0])]\n",
    "y = shuffled_y[:int(ratio * y_data.shape[0])]\n",
    "\n",
    "# training\n",
    "mask = get_categorical_masks(tX)\n",
    "\n",
    "print('Training with {}'.format(selected_model))\n",
    "for idx in mask:\n",
    "    print('Preprocessing mask {}'.format(idx))\n",
    "    \n",
    "    xtrain = tX[mask[idx]]\n",
    "    ytrain = y[mask[idx]]\n",
    "    \n",
    "    # use for fixed degrees\n",
    "    poly_degrees = poly_degrees_dict[idx]\n",
    "    inv_log_degrees = inv_log_degrees_dict[idx]\n",
    "    # ----------------------------\n",
    "    \n",
    "    grid_results = cross_validation_demo(ytrain, xtrain, selected_model, poly_degrees, inv_log_degrees, max_iters, gammas, lambdas, k_fold)\n",
    "    print(f'Best parameters for mask {idx}:')\n",
    "    print(grid_results[find_best_parameters(grid_results, min_=False)[1]], sep='\\n')\n",
    "    \n",
    "    # visualization of accuracy\n",
    "    if len(poly_degrees) == 1 and len(inv_log_degrees) == 1 and len(gammas) == 1 and len(max_iters) == 1 and len(lambdas) > 1:\n",
    "        accuracy_visualization_1(lambdas, [d['acc_mean'] for d in grid_results], param1='lambda', title=f'Accuracy plot of mask {idx} for lambda')\n",
    "    \n",
    "    if len(poly_degrees) == 1 and len(inv_log_degrees) == 1 and len(lambdas) == 1 and len(max_iters) == 1 and len(gammas) > 1:\n",
    "        accuracy_visualization_1(gammas, [d['acc_mean'] for d in grid_results], param1='gamma', title=f'Accuracy plot of mask {idx} for gamma')\n",
    "    \n",
    "    if len(poly_degrees) == 1 and len(inv_log_degrees) == 1 and len(lambdas) == 1 and len(gammas) == 1 and len(max_iters) > 1:\n",
    "        accuracy_visualization_1(max_iters, [d['acc_mean'] for d in grid_results], param1='max_iters', title=f'Accuracy plot of mask {idx} for max_iters')\n",
    "    \n",
    "    if len(lambdas) == 1 and len(gammas) == 1 and len(poly_degrees) > 2 and len(inv_log_degrees) > 2:\n",
    "        A = np.zeros((len(poly_degrees), len(inv_log_degrees)))\n",
    "        poly_dict = dict(zip(poly_degrees, list(range(0,len(poly_degrees)))))\n",
    "        log_dict = dict(zip(inv_log_degrees, list(range(0,len(inv_log_degrees)))))\n",
    "        for d in grid_results:\n",
    "            A[poly_dict[d['poly_degree']], log_dict[d['log_degree']]] = d['acc_mean']\n",
    "        accuracy_visualization_2(inv_log_degrees, poly_degrees, A, name_x='inv_log_degrees', name_y='poly_degrees', title=f'Accuracy Visualization of mask {idx}')\n",
    "    #-----------------------------------------------------------------------------------\n",
    "\n",
    "    print('---------------------------------------------------------------------------------')"
   ]
  },
  {
   "cell_type": "code",
   "execution_count": null,
   "metadata": {},
   "outputs": [],
   "source": []
  },
  {
   "cell_type": "code",
   "execution_count": null,
   "metadata": {},
   "outputs": [],
   "source": []
  },
  {
   "cell_type": "code",
   "execution_count": null,
   "metadata": {},
   "outputs": [],
   "source": []
  }
 ],
 "metadata": {
  "kernelspec": {
   "display_name": "Python 3",
   "language": "python",
   "name": "python3"
  },
  "language_info": {
   "codemirror_mode": {
    "name": "ipython",
    "version": 3
   },
   "file_extension": ".py",
   "mimetype": "text/x-python",
   "name": "python",
   "nbconvert_exporter": "python",
   "pygments_lexer": "ipython3",
   "version": "3.7.3"
  }
 },
 "nbformat": 4,
 "nbformat_minor": 2
}
