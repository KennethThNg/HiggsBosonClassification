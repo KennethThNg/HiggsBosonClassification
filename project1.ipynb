{
 "cells": [
  {
   "cell_type": "code",
   "execution_count": 1,
   "metadata": {},
   "outputs": [],
   "source": [
    "# Useful starting lines\n",
    "%matplotlib inline\n",
    "import numpy as np\n",
    "import matplotlib.pyplot as plt\n",
    "%load_ext autoreload\n",
    "%autoreload 2"
   ]
  },
  {
   "cell_type": "code",
   "execution_count": 2,
   "metadata": {},
   "outputs": [],
   "source": [
    "# import libraries\n",
    "from implementation import *\n",
    "from helpers import *\n",
    "from cross_validation import *\n",
    "from proj_helpers import *"
   ]
  },
  {
   "cell_type": "code",
   "execution_count": 3,
   "metadata": {},
   "outputs": [],
   "source": [
    "# set random seed\n",
    "np.random.seed(10)"
   ]
  },
  {
   "cell_type": "code",
   "execution_count": 4,
   "metadata": {},
   "outputs": [],
   "source": [
    "# Load training data\n",
    "DATA_TRAIN_PATH = 'data/train.csv'\n",
    "y_data, tX_data, ids = load_csv_data(DATA_TRAIN_PATH)\n"
   ]
  },
  {
   "cell_type": "code",
   "execution_count": 12,
   "metadata": {},
   "outputs": [],
   "source": [
    "# define models\n",
    "models = ['gd',\n",
    "          'sgd',\n",
    "          'least squares',\n",
    "          'ridge regression',\n",
    "          'logistic regression',\n",
    "          'regularized logistic regression']\n",
    "\n",
    "# select model\n",
    "selected_model = 'ridge regression'\n",
    "\n",
    "#define parameters\n",
    "poly_degrees_dict = {0 : [15], 1 : [13], 2 : [7], 3 : [14]} # fixed degrees for each mask\n",
    "inv_log_degrees_dict = {0 : [15], 1 : [7], 2 : [14], 3 : [7]} # # fixed degrees for each mask\n",
    "\n",
    "poly_degrees = np.linspace(7, 20, 14, dtype='int')\n",
    "inv_log_degrees = np.linspace(7, 20, 14, dtype='int')\n",
    "\n",
    "gammas = [1] #np.logspace(-10, -1, 10)\n",
    "lambdas = [1e-13] #np.logspace(-15, 0, 30)\n",
    "max_iters = [10] #list(range(10,100,10))"
   ]
  },
  {
   "cell_type": "code",
   "execution_count": null,
   "metadata": {},
   "outputs": [
    {
     "name": "stdout",
     "output_type": "stream",
     "text": [
      "Training with ridge regression\n",
      "Preprocessing mask 0\n",
      "Fold number: 3  18%   \r"
     ]
    }
   ],
   "source": [
    "# define cross validation parameters\n",
    "ratio = 0.5 # ratio of complete data to use (for testing purpose - much faster)\n",
    "k_fold = 5 # number of folds to use for the cross validation\n",
    "# -------------------------------------\n",
    "\n",
    "# shuffle dataset\n",
    "shuffle_indices = np.random.permutation(np.arange(len(y_data)))\n",
    "shuffled_y = y_data[shuffle_indices]\n",
    "shuffled_tx = tX_data[shuffle_indices]\n",
    "\n",
    "tX = shuffled_tx[:int(ratio * tX_data.shape[0])]\n",
    "y = shuffled_y[:int(ratio * y_data.shape[0])]\n",
    "\n",
    "# training\n",
    "mask = get_categorical_masks(tX)\n",
    "\n",
    "print('Training with {}'.format(selected_model))\n",
    "for idx in mask:\n",
    "    print('Preprocessing mask {}'.format(idx))\n",
    "    \n",
    "    xtrain = tX[mask[idx]]\n",
    "    ytrain = y[mask[idx]]\n",
    "    \n",
    "    # use for fixed degrees\n",
    "    #poly_degrees = poly_degrees_dict[idx]\n",
    "    #inv_log_degrees = inv_log_degrees_dict[idx]\n",
    "    # ----------------------------\n",
    "    \n",
    "    grid_results = cross_validation_demo(ytrain, xtrain, selected_model, poly_degrees, inv_log_degrees, max_iters, gammas, lambdas, k_fold)\n",
    "    print(f'Best parameters for mask {idx}:')\n",
    "    print(grid_results[find_best_parameters(grid_results, min_=False)[1]], sep='\\n')\n",
    "    \n",
    "    # visualization of accuracy\n",
    "    if len(poly_degrees) == 1 and len(inv_log_degrees) == 1 and len(gammas) == 1 and len(max_iters) == 1 and len(lambdas) > 1:\n",
    "        accuracy_visualization_1(lambdas, [d['acc_mean'] for d in grid_results], param1='lambda', title=f'Accuracy plot of mask {idx} for lambda')\n",
    "    \n",
    "    if len(poly_degrees) == 1 and len(inv_log_degrees) == 1 and len(lambdas) == 1 and len(max_iters) == 1 and len(gammas) > 1:\n",
    "        accuracy_visualization_1(gammas, [d['acc_mean'] for d in grid_results], param1='gamma', title=f'Accuracy plot of mask {idx} for gamma')\n",
    "    \n",
    "    if len(poly_degrees) == 1 and len(inv_log_degrees) == 1 and len(lambdas) == 1 and len(gammas) == 1 and len(max_iters) > 1:\n",
    "        accuracy_visualization_1(max_iters, [d['acc_mean'] for d in grid_results], param1='max_iters', title=f'Accuracy plot of mask {idx} for max_iters')\n",
    "    \n",
    "    if len(lambdas) == 1 and len(gammas) == 1 and len(poly_degrees) > 2 and len(inv_log_degrees) > 2:\n",
    "        A = np.zeros((len(poly_degrees), len(inv_log_degrees)))\n",
    "        poly_dict = dict(zip(poly_degrees, list(range(0,len(poly_degrees)))))\n",
    "        log_dict = dict(zip(inv_log_degrees, list(range(0,len(inv_log_degrees)))))\n",
    "        for d in grid_results:\n",
    "            A[poly_dict[d['poly_degree']], log_dict[d['log_degree']]] = d['acc_mean']\n",
    "        accuracy_visualization_2(inv_log_degrees, poly_degrees, A, name_x='inv_log_degrees', name_y='poly_degrees', title=f'Accuracy Visualization of mask {idx}')\n",
    "    #-----------------------------------------------------------------------------------\n",
    "\n",
    "    print('---------------------------------------------------------------------------------')"
   ]
  },
  {
   "cell_type": "code",
   "execution_count": null,
   "metadata": {},
   "outputs": [],
   "source": []
  },
  {
   "cell_type": "code",
   "execution_count": null,
   "metadata": {},
   "outputs": [],
   "source": []
  },
  {
   "cell_type": "code",
   "execution_count": null,
   "metadata": {},
   "outputs": [],
   "source": []
  }
 ],
 "metadata": {
  "kernelspec": {
   "display_name": "Python 3",
   "language": "python",
   "name": "python3"
  },
  "language_info": {
   "codemirror_mode": {
    "name": "ipython",
    "version": 3
   },
   "file_extension": ".py",
   "mimetype": "text/x-python",
   "name": "python",
   "nbconvert_exporter": "python",
   "pygments_lexer": "ipython3",
   "version": "3.7.3"
  }
 },
 "nbformat": 4,
 "nbformat_minor": 2
}
